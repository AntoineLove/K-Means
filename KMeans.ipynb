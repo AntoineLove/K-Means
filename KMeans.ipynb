{
 "cells": [
  {
   "cell_type": "markdown",
   "id": "2f2d33f0-6d89-4d2a-afe2-5d3a641dfdd5",
   "metadata": {},
   "source": [
    "#### KMeans\n",
    "\n",
    "##### Image Preparation\n",
    "1) Open the image.\n",
    "2) Convert to an array (width,height,rgb)\n",
    "3) Convert to an array (rgb, width*height)\n",
    "\n",
    "##### KMeans Application\n",
    "4) Fit k-means from converted array.\n",
    "5) (Predict for converted array? Or, just use labels from fitting?)\n",
    "6) Create array of fit/predicted labels and centroids.\n",
    "\n",
    "##### Image Recovery\n",
    "7) Reshape fit-array into image size.\n",
    "8) Convert to image from array.\n",
    "9) Enjoy :)"
   ]
  },
  {
   "cell_type": "code",
   "execution_count": 1,
   "id": "f0e62d0f-4dac-4b32-968b-b3edef2b9c4b",
   "metadata": {},
   "outputs": [],
   "source": [
    "from PIL import Image\n",
    "import numpy as np\n",
    "from sklearn.cluster import KMeans"
   ]
  },
  {
   "cell_type": "code",
   "execution_count": 2,
   "id": "61d5ca80-a7f6-4a00-8d73-92d6cb8dab71",
   "metadata": {},
   "outputs": [],
   "source": [
    "def reshapeImageAsArray(image):\n",
    "    # Need to check the indexing.  *Some images are rotated*\n",
    "    '''Assumes image is an Image object with only RGB values.\n",
    "    That is, image.shape = (columns,rows,3).  Returns an array\n",
    "    with 3 rows and imagecolumns*imagerows columns.'''\n",
    "    imarray = np.asarray(image)\n",
    "    if imarray.shape[2]!=3:\n",
    "        return \"Image does not have just RGB values.\"\n",
    "    \n",
    "    rows, columns = imarray.shape[0], imarray.shape[1]\n",
    "    newimarray = np.empty([3,rows*columns])\n",
    "    for i in range(rows):\n",
    "        for j in range(columns):\n",
    "            newimarray[:,i*columns+j] = imarray[i][j]\n",
    "    return np.transpose(newimarray)\n",
    "\n",
    "def returnArrayToImage(imarray,rows,columns):\n",
    "    # Need to check the indexing.  *Some images are rotated*\n",
    "    '''Just returns the array back into the correct image ratio\n",
    "    and returns an image from that back-converted array.'''\n",
    "    imarray = np.transpose(imarray)\n",
    "    newimarray = np.empty([rows,columns,3])\n",
    "    for i in range(rows*columns):\n",
    "        newimarray[int(i/columns)][i%columns] = imarray[:,i]\n",
    "    return Image.fromarray((newimarray*1).astype(np.uint8))\n",
    "\n",
    "def kmeanspp(imageurl,k,max_it):\n",
    "    '''performs kmeans++ on an image at imageurl.  k is the number \n",
    "    of centroids, max_it is the max iteration count.'''\n",
    "    #load image from imageurl\n",
    "    picture = Image.open(imageurl)\n",
    "    #Take data on image shape.\n",
    "    rows, columns = np.asarray(picture).shape[0], np.asarray(picture).shape[1]\n",
    "    #Convert the image to an array of pixel data.\n",
    "    # Might be equivalent to Image.getdata()\n",
    "    imarray = reshapeImageAsArray(picture)\n",
    "    #Perform kmeans++ on the image with k clusters and max_it max iteration count.\n",
    "    kmeans = KMeans(n_clusters = k, init = 'k-means++', max_iter = max_it).fit(imarray)\n",
    "    #Use labels and centroids to form an array to be converted to the new image.\n",
    "    kmeansarray = np.array([kmeans.cluster_centers_[kmeans.labels_[i]] for i in range(len(kmeans.labels_))])\n",
    "    #Return the image after reshaping the array into the proper form of the og image.\n",
    "    return returnArrayToImage(kmeansarray,rows,columns)\n",
    "\n",
    "def getKMeansLabels(imageurl,k,max_it):\n",
    "    '''performs kmeans++ on an image at imageurl.  k is the number \n",
    "    of centroids, max_it is the max iteration count. Returns an\n",
    "    array of the labels for each pixel (i.e. which centroid each pixel\n",
    "    is predicted to be closest to.)'''\n",
    "    #load image from imageurl\n",
    "    picture = Image.open(imageurl)\n",
    "    #Take data on image shape.\n",
    "    rows, columns = np.asarray(picture).shape[0], np.asarray(picture).shape[1]\n",
    "    #Convert the image to an array of pixel data.\n",
    "    # Might be equivalent to Image.getdata()\n",
    "    imarray = reshapeImageAsArray(picture)\n",
    "    #Perform kmeans++ on the image with k clusters and max_it max iteration count.\n",
    "    kmeans = KMeans(n_clusters = k, init = 'k-means++', max_iter = max_it).fit(imarray)\n",
    "    return kmeans.labels_\n",
    "\n",
    "def recolorKMeans(imLabels, colorlist,rows,columns):\n",
    "    '''Given a color list of length equal to the number of colors,\n",
    "    where each color is a (3,) array of RGB values in [0,255],\n",
    "    in a K-Means k value and an array imLabelArray which contains\n",
    "    the labels for each pixel from a K-means algorithm, this method\n",
    "    recolors each pixel with the colors in colorlist instead of in\n",
    "    the usual k-means result, which replaces the labels with the \n",
    "    color centroids found in the k-means process. Also requires the\n",
    "    rows and columns of the original image.'''\n",
    "    #Reshapes color vectors into (3,) if they are (,3)\n",
    "    if colorlist[0].shape != (3,):\n",
    "        return \"Color vectors are not (3,).\"\n",
    "    recoloredArray = np.array([colorlist[imLabels[i]] for i in range(len(imLabels))])\n",
    "    return returnArrayToImage(recoloredArray,rows,columns)\n",
    "\n",
    "def kmeansppBatch(urllist,klist,max_iter):\n",
    "    for url in urllist:\n",
    "        for kay in klist:\n",
    "            im = kmeanspp(imageurl=url,k = kay,max_it = max_iter)\n",
    "            im.save(\"Keq\"+str(kay)+url)\n",
    "            print(\"Keq\"+str(kay)+url+\" is complete.\")\n",
    "            "
   ]
  },
  {
   "cell_type": "markdown",
   "id": "131bac77-3e92-4ac4-9308-d156258290fe",
   "metadata": {},
   "source": [
    "#### Example of running kmeans on one image."
   ]
  },
  {
   "cell_type": "code",
   "execution_count": 3,
   "id": "7f0a7866-ec00-4127-ba95-927e564e561b",
   "metadata": {
    "tags": []
   },
   "outputs": [],
   "source": [
    "#Insert picture url here:\n",
    "#url = 'YOURURLHEREASSTRING'\n",
    "#Change to numer of clusters\n",
    "#kay = 3\n",
    "#Set higher if you'd like closer approximations.\n",
    "#max_iter = 50\n",
    "#Save output as [insert filename]:\n",
    "#filename = \"MARIOSMUSTACHE\""
   ]
  },
  {
   "cell_type": "markdown",
   "id": "b5a8f90e-877e-46fc-86e1-286c0283bc01",
   "metadata": {},
   "source": [
    "#### Example of saving a resultign image"
   ]
  },
  {
   "cell_type": "code",
   "execution_count": 4,
   "id": "ab5e7bb6-2f8f-4c7e-91e1-281a01d916a1",
   "metadata": {
    "tags": []
   },
   "outputs": [],
   "source": [
    "#UNCOMMENT AND RUN THE KMEANS ALGORITHM ON THE PROVIDED IMAGE AT URL ABOVE.\n",
    "#im = kmeanspp(imageurl=url,k=kay,max_it=max_iter)"
   ]
  },
  {
   "cell_type": "code",
   "execution_count": 5,
   "id": "43ea2ce9-5759-4cb6-9619-3dfc82d6e340",
   "metadata": {
    "tags": []
   },
   "outputs": [],
   "source": [
    "#Saves the output of the kmeans program to an image\n",
    "#im.save(str(filename+str(kay)+\".jpg\"),format='JPEG')"
   ]
  },
  {
   "cell_type": "markdown",
   "id": "1bc75dc8-3ccc-447c-999f-749d0ae19965",
   "metadata": {},
   "source": [
    "#### Example of kmeans Batch on multiple images"
   ]
  },
  {
   "cell_type": "code",
   "execution_count": 6,
   "id": "f3c85bfd-4e3d-4c1b-ae87-0a899bc8fe72",
   "metadata": {
    "tags": []
   },
   "outputs": [],
   "source": [
    "# Or provide a list of urls and this will take care of all of them!\n",
    "# This autmoatically saves the output of each image.  It is intended to be\n",
    "# a batch process.\n",
    "#\n",
    "# NEED TO CORRECT: Overrides previously saved files with the same name.\n",
    "# This is hazardous behavior.  Needs to be corrected. Corrected Oct 14.\n",
    "#urlList = [\"IMG_3159.jpg\",\"IMG_3193.jpg\",\"IMG_3206.jpg\",\"IMG_3264.jpg\",\"IMG_3270(1).jpg\",\"IMG_3292(1).jpg\",\"IMG_3302.jpg\"]\n",
    "#kList = [2,3,4,5]\n",
    "#max_iter = 50\n",
    "\n",
    "#kmeansppBatch(urlList,kList,max_iter)"
   ]
  },
  {
   "cell_type": "markdown",
   "id": "da9d0ed9-a5fd-48c4-b723-80c4ad06c1bb",
   "metadata": {},
   "source": [
    "#### Example of recoloring an image from kmeans labels"
   ]
  },
  {
   "cell_type": "code",
   "execution_count": 7,
   "id": "d37880e6-97b8-4139-aea0-a730b4e36c66",
   "metadata": {},
   "outputs": [],
   "source": [
    "# To recolor we need the labels from the kmeans process.\n",
    "# But, this takes a lot of time.  So we make a memo of \n",
    "# the results instead of rerunning kmeans each time we\n",
    "# want to recolor our image.\n",
    "\n",
    "#labels = getKMeansLabels(\"IMG_7702.jpg\",k=8,max_it=50)\n",
    "#picture = Image.open(\"IMG_7702.jpg\")\n",
    "#rows, columns = np.asarray(picture).shape[0], np.asarray(picture).shape[1]"
   ]
  },
  {
   "cell_type": "code",
   "execution_count": 8,
   "id": "0911095f-c0f4-4538-837e-ff91993640cc",
   "metadata": {},
   "outputs": [],
   "source": [
    "#With the labels already found from the kmeans process, recoloring can easily and\n",
    "# (relatively) quickly be done.\n",
    "\n",
    "#colorlist = np.array([[0,0,0],[32,32,32],[64,64,64],[96,96,96],[128,128,128],[160,160,160],[192,192,192],[224,224,224]])\n",
    "#recolorKMeans(labels,colorlist,rows,columns)"
   ]
  },
  {
   "cell_type": "code",
   "execution_count": null,
   "id": "cbc6fbfe-41ba-42a7-b20a-2f640fea8539",
   "metadata": {},
   "outputs": [],
   "source": []
  }
 ],
 "metadata": {
  "kernelspec": {
   "display_name": "Python 3",
   "language": "python",
   "name": "python3"
  },
  "language_info": {
   "codemirror_mode": {
    "name": "ipython",
    "version": 3
   },
   "file_extension": ".py",
   "mimetype": "text/x-python",
   "name": "python",
   "nbconvert_exporter": "python",
   "pygments_lexer": "ipython3",
   "version": "3.8.8"
  }
 },
 "nbformat": 4,
 "nbformat_minor": 5
}
