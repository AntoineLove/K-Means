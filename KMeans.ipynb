{
 "cells": [
  {
   "cell_type": "markdown",
   "id": "2f2d33f0-6d89-4d2a-afe2-5d3a641dfdd5",
   "metadata": {},
   "source": [
    "#### KMeans\n",
    "\n",
    "##### Image Preparation\n",
    "1) Open the image.\n",
    "2) Convert to an array (width,height,rgb)\n",
    "3) Convert to an array (rgb, width*height)\n",
    "\n",
    "##### KMeans Application\n",
    "4) Fit k-means from converted array.\n",
    "5) (Predict for converted array? Or, just use labels from fitting?)\n",
    "6) Create array of fit/predicted labels and centroids.\n",
    "\n",
    "##### Image Recovery\n",
    "7) Reshape fit-array into image size.\n",
    "8) Convert to image from array.\n",
    "9) Enjoy :)"
   ]
  },
  {
   "cell_type": "code",
   "execution_count": 11,
   "id": "f0e62d0f-4dac-4b32-968b-b3edef2b9c4b",
   "metadata": {},
   "outputs": [],
   "source": [
    "from PIL import Image\n",
    "import numpy as np\n",
    "from sklearn.cluster import KMeans"
   ]
  },
  {
   "cell_type": "code",
   "execution_count": 12,
   "id": "61d5ca80-a7f6-4a00-8d73-92d6cb8dab71",
   "metadata": {},
   "outputs": [],
   "source": [
    "def reshapeImageAsArray(image):\n",
    "    '''Assumes image is an Image object with only RGB values.\n",
    "    That is, image.shape = (columns,rows,3).  Returns an array\n",
    "    with 3 rows and imagecolumns*imagerows columns.'''\n",
    "    imarray = np.asarray(image)\n",
    "    if imarray.shape[2]!=3:\n",
    "        return \"Image does not have just RGB values.\"\n",
    "    \n",
    "    rows, columns = imarray.shape[0], imarray.shape[1]\n",
    "    newimarray = np.empty([3,rows*columns])\n",
    "    for i in range(rows):\n",
    "        for j in range(columns):\n",
    "            newimarray[:,i*columns+j] = imarray[i][j]\n",
    "    return np.transpose(newimarray)\n",
    "\n",
    "def returnArrayToImage(imarray,rows,columns):\n",
    "    '''Just returns the array back into the correct image ratio\n",
    "    and returns an image from that back-converted array.'''\n",
    "    imarray = np.transpose(imarray)\n",
    "    newimarray = np.empty([rows,columns,3])\n",
    "    for i in range(rows*columns):\n",
    "        newimarray[int(i/columns)][i%columns] = imarray[:,i]\n",
    "    return Image.fromarray((newimarray*1).astype(np.uint8))\n",
    "\n",
    "def kmeanspp(imageurl,k,max_it):\n",
    "    '''performs kmeans++ on an image at imageurl.  k is the number \n",
    "    of centroids, max_it is the max iteration count.'''\n",
    "    #load image from imageurl\n",
    "    picture = Image.open(imageurl)\n",
    "    #Take data on image shape.\n",
    "    rows, columns = np.asarray(picture).shape[0], np.asarray(picture).shape[1]\n",
    "    #Convert the image to an array of pixel data.\n",
    "    # Might be equivalent to Image.getdata()\n",
    "    imarray = reshapeImageAsArray(picture)\n",
    "    #Perform kmeans++ on the image with k clusters and max_it max iteration count.\n",
    "    kmeans = KMeans(n_clusters = k, init = 'k-means++', max_iter = max_it).fit(imarray)\n",
    "    #Use labels and centroids to form an array to be converted to the new image.\n",
    "    kmeansarray = np.array([kmeans.cluster_centers_[kmeans.labels_[i]] for i in range(len(kmeans.labels_))])\n",
    "    #Return the image after reshaping the array into the proper form of the og image.\n",
    "    return returnArrayToImage(kmeansarray,rows,columns)"
   ]
  },
  {
   "cell_type": "code",
   "execution_count": 13,
   "id": "7f0a7866-ec00-4127-ba95-927e564e561b",
   "metadata": {},
   "outputs": [],
   "source": [
    "#Insert picture url here:\n",
    "url = 'dummyname.jpg'\n",
    "#Change to numer of clusters\n",
    "kay = 3\n",
    "#Set higher if you'd like closer approximations.\n",
    "max_iter = 200\n",
    "#Save output as [insert filename]:\n",
    "filename = \"filename.jpg\""
   ]
  },
  {
   "cell_type": "code",
   "execution_count": 14,
   "id": "ab5e7bb6-2f8f-4c7e-91e1-281a01d916a1",
   "metadata": {},
   "outputs": [],
   "source": [
    "#UNCOMMENT AND RUN THE KMEANS ALGORITHM ON THE PROVIDED IMAGE AT URL ABOVE.\n",
    "#im = kmeanspp(imageurl=url,k=kay,max_it=max_iter)"
   ]
  },
  {
   "cell_type": "code",
   "execution_count": 15,
   "id": "43ea2ce9-5759-4cb6-9619-3dfc82d6e340",
   "metadata": {},
   "outputs": [],
   "source": [
    "#Saves the output of the kmeans program to an image\n",
    "#im.save(filename,format='JPEG')"
   ]
  },
  {
   "cell_type": "code",
   "execution_count": null,
   "id": "f3c85bfd-4e3d-4c1b-ae87-0a899bc8fe72",
   "metadata": {},
   "outputs": [],
   "source": []
  }
 ],
 "metadata": {
  "kernelspec": {
   "display_name": "Python 3",
   "language": "python",
   "name": "python3"
  },
  "language_info": {
   "codemirror_mode": {
    "name": "ipython",
    "version": 3
   },
   "file_extension": ".py",
   "mimetype": "text/x-python",
   "name": "python",
   "nbconvert_exporter": "python",
   "pygments_lexer": "ipython3",
   "version": "3.8.8"
  }
 },
 "nbformat": 4,
 "nbformat_minor": 5
}
